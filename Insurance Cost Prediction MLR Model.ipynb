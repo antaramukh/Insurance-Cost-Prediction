{
 "cells": [
  {
   "cell_type": "markdown",
   "id": "d0ec6809",
   "metadata": {},
   "source": [
    "# Insurance Cost Prediction using Multiple Linear Regression"
   ]
  },
  {
   "cell_type": "markdown",
   "id": "dc7f0e77",
   "metadata": {},
   "source": [
    "## Importing Important Libraries"
   ]
  },
  {
   "cell_type": "code",
   "execution_count": 64,
   "id": "7bdb2aeb",
   "metadata": {},
   "outputs": [],
   "source": [
    "import numpy as np \n",
    "import pandas as pd  \n",
    "import seaborn as sns \n",
    "import matplotlib.pyplot as plt\n",
    "import statsmodels.api as sm\n",
    "import sklearn\n",
    "from sklearn.model_selection import train_test_split\n",
    "from sklearn.linear_model import LinearRegression\n",
    "from sklearn.metrics import mean_squared_error\n",
    "from sklearn.metrics import r2_score\n",
    "from sklearn.preprocessing import LabelEncoder"
   ]
  },
  {
   "cell_type": "markdown",
   "id": "42f2dfba",
   "metadata": {},
   "source": [
    "## Extracting the Dataset"
   ]
  },
  {
   "cell_type": "markdown",
   "id": "4bfca566",
   "metadata": {},
   "source": [
    " To load the dataset into memory, we’ll use the read_csv function from the pandas library. The data will be loaded as a Pandas data frame. "
   ]
  },
  {
   "cell_type": "code",
   "execution_count": 65,
   "id": "7660217d",
   "metadata": {},
   "outputs": [
    {
     "name": "stdout",
     "output_type": "stream",
     "text": [
      "      age     sex     bmi  children smoker     region      charges\n",
      "0      19  female  27.900         0    yes  southwest  16884.92400\n",
      "1      18    male  33.770         1     no  southeast   1725.55230\n",
      "2      28    male  33.000         3     no  southeast   4449.46200\n",
      "3      33    male  22.705         0     no  northwest  21984.47061\n",
      "4      32    male  28.880         0     no  northwest   3866.85520\n",
      "...   ...     ...     ...       ...    ...        ...          ...\n",
      "1333   50    male  30.970         3     no  northwest  10600.54830\n",
      "1334   18  female  31.920         0     no  northeast   2205.98080\n",
      "1335   18  female  36.850         0     no  southeast   1629.83350\n",
      "1336   21  female  25.800         0     no  southwest   2007.94500\n",
      "1337   61  female  29.070         0    yes  northwest  29141.36030\n",
      "\n",
      "[1338 rows x 7 columns]\n"
     ]
    }
   ],
   "source": [
    "df = pd.read_csv(\"insurance.csv\")\n",
    "print(df)"
   ]
  },
  {
   "cell_type": "markdown",
   "id": "906f9e68",
   "metadata": {},
   "source": [
    "## Information of Dataset"
   ]
  },
  {
   "cell_type": "code",
   "execution_count": 66,
   "id": "633ccd9d",
   "metadata": {},
   "outputs": [
    {
     "data": {
      "text/html": [
       "<div>\n",
       "<style scoped>\n",
       "    .dataframe tbody tr th:only-of-type {\n",
       "        vertical-align: middle;\n",
       "    }\n",
       "\n",
       "    .dataframe tbody tr th {\n",
       "        vertical-align: top;\n",
       "    }\n",
       "\n",
       "    .dataframe thead th {\n",
       "        text-align: right;\n",
       "    }\n",
       "</style>\n",
       "<table border=\"1\" class=\"dataframe\">\n",
       "  <thead>\n",
       "    <tr style=\"text-align: right;\">\n",
       "      <th></th>\n",
       "      <th>age</th>\n",
       "      <th>sex</th>\n",
       "      <th>bmi</th>\n",
       "      <th>children</th>\n",
       "      <th>smoker</th>\n",
       "      <th>region</th>\n",
       "      <th>charges</th>\n",
       "    </tr>\n",
       "  </thead>\n",
       "  <tbody>\n",
       "    <tr>\n",
       "      <th>0</th>\n",
       "      <td>19</td>\n",
       "      <td>female</td>\n",
       "      <td>27.900</td>\n",
       "      <td>0</td>\n",
       "      <td>yes</td>\n",
       "      <td>southwest</td>\n",
       "      <td>16884.92400</td>\n",
       "    </tr>\n",
       "    <tr>\n",
       "      <th>1</th>\n",
       "      <td>18</td>\n",
       "      <td>male</td>\n",
       "      <td>33.770</td>\n",
       "      <td>1</td>\n",
       "      <td>no</td>\n",
       "      <td>southeast</td>\n",
       "      <td>1725.55230</td>\n",
       "    </tr>\n",
       "    <tr>\n",
       "      <th>2</th>\n",
       "      <td>28</td>\n",
       "      <td>male</td>\n",
       "      <td>33.000</td>\n",
       "      <td>3</td>\n",
       "      <td>no</td>\n",
       "      <td>southeast</td>\n",
       "      <td>4449.46200</td>\n",
       "    </tr>\n",
       "    <tr>\n",
       "      <th>3</th>\n",
       "      <td>33</td>\n",
       "      <td>male</td>\n",
       "      <td>22.705</td>\n",
       "      <td>0</td>\n",
       "      <td>no</td>\n",
       "      <td>northwest</td>\n",
       "      <td>21984.47061</td>\n",
       "    </tr>\n",
       "    <tr>\n",
       "      <th>4</th>\n",
       "      <td>32</td>\n",
       "      <td>male</td>\n",
       "      <td>28.880</td>\n",
       "      <td>0</td>\n",
       "      <td>no</td>\n",
       "      <td>northwest</td>\n",
       "      <td>3866.85520</td>\n",
       "    </tr>\n",
       "  </tbody>\n",
       "</table>\n",
       "</div>"
      ],
      "text/plain": [
       "   age     sex     bmi  children smoker     region      charges\n",
       "0   19  female  27.900         0    yes  southwest  16884.92400\n",
       "1   18    male  33.770         1     no  southeast   1725.55230\n",
       "2   28    male  33.000         3     no  southeast   4449.46200\n",
       "3   33    male  22.705         0     no  northwest  21984.47061\n",
       "4   32    male  28.880         0     no  northwest   3866.85520"
      ]
     },
     "execution_count": 66,
     "metadata": {},
     "output_type": "execute_result"
    }
   ],
   "source": [
    "df.head()"
   ]
  },
  {
   "cell_type": "code",
   "execution_count": 67,
   "id": "d7c91eb2",
   "metadata": {
    "scrolled": true
   },
   "outputs": [
    {
     "name": "stdout",
     "output_type": "stream",
     "text": [
      "<class 'pandas.core.frame.DataFrame'>\n",
      "RangeIndex: 1338 entries, 0 to 1337\n",
      "Data columns (total 7 columns):\n",
      " #   Column    Non-Null Count  Dtype  \n",
      "---  ------    --------------  -----  \n",
      " 0   age       1338 non-null   int64  \n",
      " 1   sex       1338 non-null   object \n",
      " 2   bmi       1338 non-null   float64\n",
      " 3   children  1338 non-null   int64  \n",
      " 4   smoker    1338 non-null   object \n",
      " 5   region    1338 non-null   object \n",
      " 6   charges   1338 non-null   float64\n",
      "dtypes: float64(2), int64(2), object(3)\n",
      "memory usage: 73.3+ KB\n"
     ]
    }
   ],
   "source": [
    "df.info()"
   ]
  },
  {
   "cell_type": "code",
   "execution_count": 68,
   "id": "082624ef",
   "metadata": {
    "scrolled": false
   },
   "outputs": [
    {
     "data": {
      "text/html": [
       "<div>\n",
       "<style scoped>\n",
       "    .dataframe tbody tr th:only-of-type {\n",
       "        vertical-align: middle;\n",
       "    }\n",
       "\n",
       "    .dataframe tbody tr th {\n",
       "        vertical-align: top;\n",
       "    }\n",
       "\n",
       "    .dataframe thead th {\n",
       "        text-align: right;\n",
       "    }\n",
       "</style>\n",
       "<table border=\"1\" class=\"dataframe\">\n",
       "  <thead>\n",
       "    <tr style=\"text-align: right;\">\n",
       "      <th></th>\n",
       "      <th>age</th>\n",
       "      <th>bmi</th>\n",
       "      <th>children</th>\n",
       "      <th>charges</th>\n",
       "    </tr>\n",
       "  </thead>\n",
       "  <tbody>\n",
       "    <tr>\n",
       "      <th>count</th>\n",
       "      <td>1338.000000</td>\n",
       "      <td>1338.000000</td>\n",
       "      <td>1338.000000</td>\n",
       "      <td>1338.000000</td>\n",
       "    </tr>\n",
       "    <tr>\n",
       "      <th>mean</th>\n",
       "      <td>39.207025</td>\n",
       "      <td>30.663397</td>\n",
       "      <td>1.094918</td>\n",
       "      <td>13270.422265</td>\n",
       "    </tr>\n",
       "    <tr>\n",
       "      <th>std</th>\n",
       "      <td>14.049960</td>\n",
       "      <td>6.098187</td>\n",
       "      <td>1.205493</td>\n",
       "      <td>12110.011237</td>\n",
       "    </tr>\n",
       "    <tr>\n",
       "      <th>min</th>\n",
       "      <td>18.000000</td>\n",
       "      <td>15.960000</td>\n",
       "      <td>0.000000</td>\n",
       "      <td>1121.873900</td>\n",
       "    </tr>\n",
       "    <tr>\n",
       "      <th>25%</th>\n",
       "      <td>27.000000</td>\n",
       "      <td>26.296250</td>\n",
       "      <td>0.000000</td>\n",
       "      <td>4740.287150</td>\n",
       "    </tr>\n",
       "    <tr>\n",
       "      <th>50%</th>\n",
       "      <td>39.000000</td>\n",
       "      <td>30.400000</td>\n",
       "      <td>1.000000</td>\n",
       "      <td>9382.033000</td>\n",
       "    </tr>\n",
       "    <tr>\n",
       "      <th>75%</th>\n",
       "      <td>51.000000</td>\n",
       "      <td>34.693750</td>\n",
       "      <td>2.000000</td>\n",
       "      <td>16639.912515</td>\n",
       "    </tr>\n",
       "    <tr>\n",
       "      <th>max</th>\n",
       "      <td>64.000000</td>\n",
       "      <td>53.130000</td>\n",
       "      <td>5.000000</td>\n",
       "      <td>63770.428010</td>\n",
       "    </tr>\n",
       "  </tbody>\n",
       "</table>\n",
       "</div>"
      ],
      "text/plain": [
       "               age          bmi     children       charges\n",
       "count  1338.000000  1338.000000  1338.000000   1338.000000\n",
       "mean     39.207025    30.663397     1.094918  13270.422265\n",
       "std      14.049960     6.098187     1.205493  12110.011237\n",
       "min      18.000000    15.960000     0.000000   1121.873900\n",
       "25%      27.000000    26.296250     0.000000   4740.287150\n",
       "50%      39.000000    30.400000     1.000000   9382.033000\n",
       "75%      51.000000    34.693750     2.000000  16639.912515\n",
       "max      64.000000    53.130000     5.000000  63770.428010"
      ]
     },
     "execution_count": 68,
     "metadata": {},
     "output_type": "execute_result"
    }
   ],
   "source": [
    "df.describe()"
   ]
  },
  {
   "cell_type": "markdown",
   "id": "46803803",
   "metadata": {},
   "source": [
    "Checking for NULL values"
   ]
  },
  {
   "cell_type": "code",
   "execution_count": 69,
   "id": "447507cc",
   "metadata": {},
   "outputs": [
    {
     "data": {
      "text/plain": [
       "age         0\n",
       "sex         0\n",
       "bmi         0\n",
       "children    0\n",
       "smoker      0\n",
       "region      0\n",
       "charges     0\n",
       "dtype: int64"
      ]
     },
     "execution_count": 69,
     "metadata": {},
     "output_type": "execute_result"
    }
   ],
   "source": [
    "df.isnull().sum()"
   ]
  },
  {
   "cell_type": "code",
   "execution_count": 70,
   "id": "61a8c5d4",
   "metadata": {},
   "outputs": [
    {
     "data": {
      "text/plain": [
       "array([[19, 'female', 27.9, ..., 'yes', 'southwest', 16884.924],\n",
       "       [18, 'male', 33.77, ..., 'no', 'southeast', 1725.5523],\n",
       "       [28, 'male', 33.0, ..., 'no', 'southeast', 4449.462],\n",
       "       ...,\n",
       "       [18, 'female', 36.85, ..., 'no', 'southeast', 1629.8335],\n",
       "       [21, 'female', 25.8, ..., 'no', 'southwest', 2007.945],\n",
       "       [61, 'female', 29.07, ..., 'yes', 'northwest', 29141.3603]],\n",
       "      dtype=object)"
      ]
     },
     "execution_count": 70,
     "metadata": {},
     "output_type": "execute_result"
    }
   ],
   "source": [
    "df.values"
   ]
  },
  {
   "cell_type": "markdown",
   "id": "7fd4b6d7",
   "metadata": {},
   "source": [
    "## Exploratory Data Analysis"
   ]
  },
  {
   "cell_type": "markdown",
   "id": "d1253ce7",
   "metadata": {},
   "source": [
    "Let’s create some simple plots to check out the data."
   ]
  },
  {
   "cell_type": "markdown",
   "id": "e50d01c7",
   "metadata": {},
   "source": [
    "### Pair Plotting"
   ]
  },
  {
   "cell_type": "markdown",
   "id": "2cb3b8a1",
   "metadata": {},
   "source": [
    " We now explore the relation between the features given and the insurance costs. The regression plots in seaborn are intended to add a visual guide that helps to emphasize patterns in a dataset."
   ]
  },
  {
   "cell_type": "code",
   "execution_count": 71,
   "id": "337c0f0d",
   "metadata": {},
   "outputs": [
    {
     "data": {
      "text/plain": [
       "<seaborn.axisgrid.PairGrid at 0x23332d99160>"
      ]
     },
     "execution_count": 71,
     "metadata": {},
     "output_type": "execute_result"
    },
    {
     "data": {
      "image/png": "[encoded data removed]",
      "text/plain": [
       "<Figure size 1260x180 with 8 Axes>"
      ]
     },
     "metadata": {
      "needs_background": "light"
     },
     "output_type": "display_data"
    }
   ],
   "source": [
    "sns.pairplot(df,x_vars=df.columns[::-1],y_vars=['charges'])"
   ]
  },
  {
   "cell_type": "markdown",
   "id": "ca2fb53a",
   "metadata": {},
   "source": [
    "### Joint Plots"
   ]
  },
  {
   "cell_type": "markdown",
   "id": "54338dc3",
   "metadata": {},
   "source": [
    "A Jointplot comprises three plots. Out of the three, one plot displays a bivariate graph which shows how the dependent variable(Y) varies with the independent variable(X). Another plot is placed horizontally at the top of the bivariate graph and it shows the distribution of the independent variable(X). The third plot is placed on the right margin of the bivariate graph with the orientation set to vertical and it shows the distribution of the dependent variable(Y)"
   ]
  },
  {
   "cell_type": "markdown",
   "id": "8c3c12ad",
   "metadata": {},
   "source": [
    "#### 1. Correlation betweeen 'charges' and 'age' "
   ]
  },
  {
   "cell_type": "code",
   "execution_count": 72,
   "id": "2a4efde9",
   "metadata": {},
   "outputs": [
    {
     "data": {
      "text/plain": [
       "<seaborn.axisgrid.JointGrid at 0x23332d4cd60>"
      ]
     },
     "execution_count": 72,
     "metadata": {},
     "output_type": "execute_result"
    },
    {
     "data": {
      "image/png": "[encoded data removed]",
      "text/plain": [
       "<Figure size 432x432 with 3 Axes>"
      ]
     },
     "metadata": {
      "needs_background": "light"
     },
     "output_type": "display_data"
    }
   ],
   "source": [
    "sns.jointplot(x=df['age'],y=df['charges'])"
   ]
  },
  {
   "cell_type": "markdown",
   "id": "299269be",
   "metadata": {},
   "source": [
    "Here we see that as 'age' goes up, 'charges' for health insurance also trends up"
   ]
  },
  {
   "cell_type": "markdown",
   "id": "da39bb4f",
   "metadata": {},
   "source": [
    "#### 2. Correlation betweeen 'charges' and 'smoker' "
   ]
  },
  {
   "cell_type": "code",
   "execution_count": 73,
   "id": "2cfa1323",
   "metadata": {},
   "outputs": [
    {
     "data": {
      "text/plain": [
       "<seaborn.axisgrid.JointGrid at 0x233317bd8e0>"
      ]
     },
     "execution_count": 73,
     "metadata": {},
     "output_type": "execute_result"
    },
    {
     "data": {
      "image/png": "[encoded data removed]",
      "text/plain": [
       "<Figure size 432x432 with 3 Axes>"
      ]
     },
     "metadata": {
      "needs_background": "light"
     },
     "output_type": "display_data"
    }
   ],
   "source": [
    "sns.jointplot(x=df['smoker'],y=df['charges'])"
   ]
  },
  {
   "cell_type": "markdown",
   "id": "09aa9459",
   "metadata": {},
   "source": [
    "Here, we see that charges for smokers are higher than non-smokers."
   ]
  },
  {
   "cell_type": "markdown",
   "id": "4ef2cd7b",
   "metadata": {},
   "source": [
    "### Displot"
   ]
  },
  {
   "cell_type": "markdown",
   "id": "85d8a1f9",
   "metadata": {},
   "source": [
    "Python Seaborn module contains various functions to plot the data and depict the data variations. The seaborn.displot() function is used to plot the displot. The displot represents the univariate distribution of data i.e. data distribution of a variable against the density distribution."
   ]
  },
  {
   "cell_type": "code",
   "execution_count": 74,
   "id": "8824aac0",
   "metadata": {},
   "outputs": [
    {
     "data": {
      "image/png": "[encoded data removed]",
      "text/plain": [
       "<Figure size 435.75x360 with 1 Axes>"
      ]
     },
     "metadata": {
      "needs_background": "light"
     },
     "output_type": "display_data"
    }
   ],
   "source": [
    "# How the charges are distributed according to given factors\n",
    "\n",
    "data_charges = pd.DataFrame(df['charges'])\n",
    "res = sns.displot(data_charges,kde=True, stat=\"density\", linewidth=0)\n",
    "plt.title(\"Displot for Total Charges\")\n",
    "plt.show()"
   ]
  },
  {
   "cell_type": "markdown",
   "id": "0680ca2c",
   "metadata": {},
   "source": [
    "### Barplot"
   ]
  },
  {
   "cell_type": "markdown",
   "id": "c2187970",
   "metadata": {},
   "source": [
    "A barplot is basically used to aggregate the categorical data according to some methods and by default it’s the mean. It can also be understood as a visualization of the group by action. To use this plot we choose a categorical column for the x-axis and a numerical column for the y-axis, and we see that it creates a plot taking a mean per categorical column."
   ]
  },
  {
   "cell_type": "code",
   "execution_count": 76,
   "id": "bec1da1e",
   "metadata": {},
   "outputs": [
    {
     "data": {
      "text/plain": [
       "<AxesSubplot:xlabel='charges', ylabel='region'>"
      ]
     },
     "execution_count": 76,
     "metadata": {},
     "output_type": "execute_result"
    },
    {
     "data": {
      "image/png": "[encoded data removed]",
      "text/plain": [
       "<Figure size 432x288 with 1 Axes>"
      ]
     },
     "metadata": {
      "needs_background": "light"
     },
     "output_type": "display_data"
    }
   ],
   "source": [
    "# The charges by region\n",
    "\n",
    "charges = df['charges'].groupby(df['region']).sum().sort_values(ascending = True)\n",
    "sns.barplot(x=charges.head(),y=charges.head().index)"
   ]
  },
  {
   "cell_type": "markdown",
   "id": "5331af99",
   "metadata": {},
   "source": [
    " Overall, the highest medical charges are in the Southeast and the lowest are in the Southwest."
   ]
  },
  {
   "cell_type": "markdown",
   "id": "bfe3b8a4",
   "metadata": {},
   "source": [
    "## Data Cleaning"
   ]
  },
  {
   "cell_type": "markdown",
   "id": "52b80795",
   "metadata": {},
   "source": [
    "### Detecting and Removing the Outliers\n"
   ]
  },
  {
   "cell_type": "code",
   "execution_count": 77,
   "id": "377b35de",
   "metadata": {},
   "outputs": [
    {
     "data": {
      "text/plain": [
       "<AxesSubplot:>"
      ]
     },
     "execution_count": 77,
     "metadata": {},
     "output_type": "execute_result"
    },
    {
     "data": {
      "image/png": "[encoded data removed]",
      "text/plain": [
       "<Figure size 432x288 with 1 Axes>"
      ]
     },
     "metadata": {
      "needs_background": "light"
     },
     "output_type": "display_data"
    }
   ],
   "source": [
    "# Box Plot \n",
    "import seaborn as sns\n",
    "sns.boxplot(data=df['bmi'])"
   ]
  },
  {
   "cell_type": "markdown",
   "id": "3203a41a",
   "metadata": {},
   "source": [
    " In the above graph, can clearly see that values above 46 are acting as the outliers"
   ]
  },
  {
   "cell_type": "code",
   "execution_count": 78,
   "id": "a9ee6f77",
   "metadata": {},
   "outputs": [
    {
     "name": "stdout",
     "output_type": "stream",
     "text": [
      "(array([ 116,  286,  401,  438,  454,  543,  547,  549,  660,  847,  860,\n",
      "        930,  941, 1047, 1088, 1317], dtype=int64),)\n"
     ]
    }
   ],
   "source": [
    "# Position of the Outlier\n",
    "print(np.where(df['bmi']>46))"
   ]
  },
  {
   "cell_type": "code",
   "execution_count": 79,
   "id": "3fa12176",
   "metadata": {},
   "outputs": [],
   "source": [
    "# Removing the Outliers\n",
    "df.drop([ 116,  286,  401,  438,  454,  543,  547,  549,  660,  847,  860,\n",
    "        930,  941, 1047, 1088, 1317], inplace = True)"
   ]
  },
  {
   "cell_type": "markdown",
   "id": "718948b6",
   "metadata": {},
   "source": [
    "### Correlation Matrix"
   ]
  },
  {
   "cell_type": "markdown",
   "id": "d7cefae7",
   "metadata": {},
   "source": [
    " Compare the correlation between features and remove one of two features that have a correlation higher than 0.9"
   ]
  },
  {
   "cell_type": "code",
   "execution_count": 80,
   "id": "2dee0782",
   "metadata": {},
   "outputs": [
    {
     "data": {
      "text/plain": [
       "<AxesSubplot:>"
      ]
     },
     "execution_count": 80,
     "metadata": {},
     "output_type": "execute_result"
    },
    {
     "data": {
      "image/png": "[encoded data removed]",
      "text/plain": [
       "<Figure size 432x288 with 2 Axes>"
      ]
     },
     "metadata": {
      "needs_background": "light"
     },
     "output_type": "display_data"
    }
   ],
   "source": [
    "correlation_matrix = df.corr().round(2)\n",
    "sns.heatmap(data=correlation_matrix, annot=True)"
   ]
  },
  {
   "cell_type": "markdown",
   "id": "b2f87f5f",
   "metadata": {},
   "source": [
    " All the correlation values are less than 0.9, so nothing has to be removed. The very small values in this table indicate that there is no multicollinearity between our variables, so this is not something that needs to be factored into the model."
   ]
  },
  {
   "cell_type": "markdown",
   "id": "5e7a70ae",
   "metadata": {},
   "source": [
    "## Categorical Values"
   ]
  },
  {
   "cell_type": "markdown",
   "id": "069d4048",
   "metadata": {},
   "source": [
    " By looking at our dataset we see that columns: ‘sex’, ‘smoker’ and ‘region’ are in string format, so we can work on converting them to numerical values"
   ]
  },
  {
   "cell_type": "code",
   "execution_count": 81,
   "id": "2c68d81c",
   "metadata": {},
   "outputs": [
    {
     "name": "stdout",
     "output_type": "stream",
     "text": [
      "no     1052\n",
      "yes     270\n",
      "Name: smoker, dtype: int64\n",
      "male      667\n",
      "female    655\n",
      "Name: sex, dtype: int64\n",
      "southeast    351\n",
      "northwest    325\n",
      "southwest    323\n",
      "northeast    323\n",
      "Name: region, dtype: int64\n"
     ]
    }
   ],
   "source": [
    "print(df['smoker'].value_counts())\n",
    "print(df['sex'].value_counts())\n",
    "print(df['region'].value_counts())"
   ]
  },
  {
   "cell_type": "code",
   "execution_count": 82,
   "id": "1294b7fa",
   "metadata": {},
   "outputs": [
    {
     "name": "stdout",
     "output_type": "stream",
     "text": [
      "      age     sex     bmi  children smoker     region      charges\n",
      "0      19  female  27.900         0    yes  southwest  16884.92400\n",
      "1      18    male  33.770         1     no  southeast   1725.55230\n",
      "2      28    male  33.000         3     no  southeast   4449.46200\n",
      "3      33    male  22.705         0     no  northwest  21984.47061\n",
      "4      32    male  28.880         0     no  northwest   3866.85520\n",
      "...   ...     ...     ...       ...    ...        ...          ...\n",
      "1333   50    male  30.970         3     no  northwest  10600.54830\n",
      "1334   18  female  31.920         0     no  northeast   2205.98080\n",
      "1335   18  female  36.850         0     no  southeast   1629.83350\n",
      "1336   21  female  25.800         0     no  southwest   2007.94500\n",
      "1337   61  female  29.070         0    yes  northwest  29141.36030\n",
      "\n",
      "[1322 rows x 7 columns]\n"
     ]
    }
   ],
   "source": [
    "print(df)"
   ]
  },
  {
   "cell_type": "markdown",
   "id": "38308926",
   "metadata": {},
   "source": [
    "## Encoding of Categorical Values"
   ]
  },
  {
   "cell_type": "markdown",
   "id": "35bd1ff9",
   "metadata": {},
   "source": [
    " Label Encoding refers to converting the labels into a numeric form so as to convert them into the machine-readable form. Machine learning algorithms can then decide in a better way how those labels must be operated."
   ]
  },
  {
   "cell_type": "code",
   "execution_count": 83,
   "id": "e4f8454a",
   "metadata": {},
   "outputs": [
    {
     "name": "stdout",
     "output_type": "stream",
     "text": [
      "      age  sex     bmi  children  smoker  region      charges\n",
      "0      19    0  27.900         0       1       3  16884.92400\n",
      "1      18    1  33.770         1       0       2   1725.55230\n",
      "2      28    1  33.000         3       0       2   4449.46200\n",
      "3      33    1  22.705         0       0       1  21984.47061\n",
      "4      32    1  28.880         0       0       1   3866.85520\n",
      "...   ...  ...     ...       ...     ...     ...          ...\n",
      "1333   50    1  30.970         3       0       1  10600.54830\n",
      "1334   18    0  31.920         0       0       0   2205.98080\n",
      "1335   18    0  36.850         0       0       2   1629.83350\n",
      "1336   21    0  25.800         0       0       3   2007.94500\n",
      "1337   61    0  29.070         0       1       1  29141.36030\n",
      "\n",
      "[1322 rows x 7 columns]\n"
     ]
    }
   ],
   "source": [
    "label_encoder = LabelEncoder()\n",
    "df['smoker']= label_encoder.fit_transform(df['smoker'])\n",
    "df['sex']= label_encoder.fit_transform(df['sex'])\n",
    "df['region']= label_encoder.fit_transform(df['region'])\n",
    "print(df)"
   ]
  },
  {
   "cell_type": "code",
   "execution_count": 84,
   "id": "c1d1beef",
   "metadata": {},
   "outputs": [
    {
     "name": "stdout",
     "output_type": "stream",
     "text": [
      "<class 'pandas.core.frame.DataFrame'>\n",
      "Int64Index: 1322 entries, 0 to 1337\n",
      "Data columns (total 7 columns):\n",
      " #   Column    Non-Null Count  Dtype  \n",
      "---  ------    --------------  -----  \n",
      " 0   age       1322 non-null   int64  \n",
      " 1   sex       1322 non-null   int32  \n",
      " 2   bmi       1322 non-null   float64\n",
      " 3   children  1322 non-null   int64  \n",
      " 4   smoker    1322 non-null   int32  \n",
      " 5   region    1322 non-null   int32  \n",
      " 6   charges   1322 non-null   float64\n",
      "dtypes: float64(2), int32(3), int64(2)\n",
      "memory usage: 67.1 KB\n"
     ]
    }
   ],
   "source": [
    "df.info()"
   ]
  },
  {
   "cell_type": "code",
   "execution_count": 85,
   "id": "21d18b5c",
   "metadata": {},
   "outputs": [
    {
     "name": "stdout",
     "output_type": "stream",
     "text": [
      "0    1052\n",
      "1     270\n",
      "Name: smoker, dtype: int64\n",
      "1    667\n",
      "0    655\n",
      "Name: sex, dtype: int64\n",
      "2    351\n",
      "1    325\n",
      "0    323\n",
      "3    323\n",
      "Name: region, dtype: int64\n"
     ]
    }
   ],
   "source": [
    "print(df['smoker'].value_counts())\n",
    "print(df['sex'].value_counts())\n",
    "print(df['region'].value_counts())"
   ]
  },
  {
   "cell_type": "code",
   "execution_count": 86,
   "id": "1dd8e948",
   "metadata": {},
   "outputs": [
    {
     "data": {
      "text/plain": [
       "<AxesSubplot:>"
      ]
     },
     "execution_count": 86,
     "metadata": {},
     "output_type": "execute_result"
    },
    {
     "data": {
      "image/png": "[encoded data removed]",
      "text/plain": [
       "<Figure size 432x288 with 2 Axes>"
      ]
     },
     "metadata": {
      "needs_background": "light"
     },
     "output_type": "display_data"
    }
   ],
   "source": [
    "# Correlation Matrix\n",
    "correlation_matrix = df.corr().round(2)\n",
    "sns.heatmap(data=correlation_matrix, annot=True)"
   ]
  },
  {
   "cell_type": "markdown",
   "id": "fdc8f5c7",
   "metadata": {},
   "source": [
    "## Training a Linear Regression Model"
   ]
  },
  {
   "cell_type": "markdown",
   "id": "1a27ae27",
   "metadata": {},
   "source": [
    "### Seperating the Target from DataFrame"
   ]
  },
  {
   "cell_type": "markdown",
   "id": "440d3687",
   "metadata": {},
   "source": [
    "First we will split our data into ‘x’ array that contains the features and a ‘y’ array with the target variable"
   ]
  },
  {
   "cell_type": "code",
   "execution_count": 87,
   "id": "45f9930b",
   "metadata": {
    "scrolled": false
   },
   "outputs": [
    {
     "name": "stdout",
     "output_type": "stream",
     "text": [
      "X:\n",
      " [[19.    0.   27.9   0.    1.    3.  ]\n",
      " [18.    1.   33.77  1.    0.    2.  ]\n",
      " [28.    1.   33.    3.    0.    2.  ]\n",
      " ...\n",
      " [18.    0.   36.85  0.    0.    2.  ]\n",
      " [21.    0.   25.8   0.    0.    3.  ]\n",
      " [61.    0.   29.07  0.    1.    1.  ]]\n",
      "\n",
      "Y:\n",
      " [16884.924   1725.5523  4449.462  ...  1629.8335  2007.945  29141.3603]\n"
     ]
    }
   ],
   "source": [
    "# Data Preparation\n",
    "\n",
    "x=df.iloc[:,:-1].values\n",
    "y=df.iloc[:,-1].values\n",
    "print(\"X:\\n\",x)\n",
    "print()\n",
    "print(\"Y:\\n\",y)"
   ]
  },
  {
   "cell_type": "markdown",
   "id": "2d38746c",
   "metadata": {},
   "source": [
    "### Splitting the Dataset into Training and Testing"
   ]
  },
  {
   "cell_type": "markdown",
   "id": "e65c0bfd",
   "metadata": {},
   "source": [
    " Next we will split our dataset (insurance.csv) into a training set and a testing set. We will train our model on the training set and then use the test set to evaluate the model."
   ]
  },
  {
   "cell_type": "code",
   "execution_count": 88,
   "id": "e4850e7c",
   "metadata": {},
   "outputs": [
    {
     "name": "stdout",
     "output_type": "stream",
     "text": [
      "X Train:  (991, 6)\n",
      "X Test:   (331, 6)\n",
      "Y Train:  (991,)\n",
      "Y Test:   (331,)\n",
      "[[59.     1.    31.79   2.     0.     2.   ]\n",
      " [42.     0.    33.155  1.     0.     0.   ]\n",
      " [37.     0.    30.78   0.     1.     0.   ]\n",
      " ...\n",
      " [44.     0.    23.98   2.     0.     2.   ]\n",
      " [59.     1.    29.7    2.     0.     2.   ]\n",
      " [36.     1.    33.4    2.     1.     3.   ]]\n"
     ]
    }
   ],
   "source": [
    "x_train,x_test,y_train,y_test=train_test_split(x,y,test_size=0.25, random_state=2)\n",
    "print(\"X Train: \",x_train.shape)\n",
    "print(\"X Test:  \",x_test.shape)\n",
    "print(\"Y Train: \",y_train.shape)\n",
    "print(\"Y Test:  \",y_test.shape)\n",
    "print(x_train)"
   ]
  },
  {
   "cell_type": "markdown",
   "id": "7ae8ab49",
   "metadata": {},
   "source": [
    "‘test_size’ represents that 30% of the data goes to the test data and the rest to the training set. Setting random state as an integer, train_test_split will return same results for each execution."
   ]
  },
  {
   "cell_type": "markdown",
   "id": "480bae5f",
   "metadata": {},
   "source": [
    "### Building a MLR Model"
   ]
  },
  {
   "cell_type": "code",
   "execution_count": 89,
   "id": "f4aeb7ee",
   "metadata": {},
   "outputs": [
    {
     "data": {
      "text/plain": [
       "LinearRegression()"
      ]
     },
     "execution_count": 89,
     "metadata": {},
     "output_type": "execute_result"
    }
   ],
   "source": [
    "# Building the Linear Regression Model\n",
    "lr=LinearRegression()\n",
    "# Fit linear model by passing training dataset\n",
    "lr.fit(x_train,y_train)"
   ]
  },
  {
   "cell_type": "markdown",
   "id": "6ec22367",
   "metadata": {},
   "source": [
    "## P-Values"
   ]
  },
  {
   "cell_type": "markdown",
   "id": "cf2988f8",
   "metadata": {},
   "source": [
    " Now, we summarize the regressor and check the p-values to find the independent variables that hold the maximum statistical significance."
   ]
  },
  {
   "cell_type": "code",
   "execution_count": 90,
   "id": "6379b69d",
   "metadata": {
    "scrolled": true
   },
   "outputs": [
    {
     "data": {
      "text/html": [
       "<table class=\"simpletable\">\n",
       "<caption>OLS Regression Results</caption>\n",
       "<tr>\n",
       "  <th>Dep. Variable:</th>            <td>y</td>        <th>  R-squared:         </th> <td>   0.743</td> \n",
       "</tr>\n",
       "<tr>\n",
       "  <th>Model:</th>                   <td>OLS</td>       <th>  Adj. R-squared:    </th> <td>   0.741</td> \n",
       "</tr>\n",
       "<tr>\n",
       "  <th>Method:</th>             <td>Least Squares</td>  <th>  F-statistic:       </th> <td>   473.6</td> \n",
       "</tr>\n",
       "<tr>\n",
       "  <th>Date:</th>             <td>Tue, 05 Oct 2021</td> <th>  Prob (F-statistic):</th> <td>4.87e-286</td>\n",
       "</tr>\n",
       "<tr>\n",
       "  <th>Time:</th>                 <td>00:29:18</td>     <th>  Log-Likelihood:    </th> <td> -10049.</td> \n",
       "</tr>\n",
       "<tr>\n",
       "  <th>No. Observations:</th>      <td>   991</td>      <th>  AIC:               </th> <td>2.011e+04</td>\n",
       "</tr>\n",
       "<tr>\n",
       "  <th>Df Residuals:</th>          <td>   984</td>      <th>  BIC:               </th> <td>2.015e+04</td>\n",
       "</tr>\n",
       "<tr>\n",
       "  <th>Df Model:</th>              <td>     6</td>      <th>                     </th>     <td> </td>    \n",
       "</tr>\n",
       "<tr>\n",
       "  <th>Covariance Type:</th>      <td>nonrobust</td>    <th>                     </th>     <td> </td>    \n",
       "</tr>\n",
       "</table>\n",
       "<table class=\"simpletable\">\n",
       "<tr>\n",
       "    <td></td>       <th>coef</th>     <th>std err</th>      <th>t</th>      <th>P>|t|</th>  <th>[0.025</th>    <th>0.975]</th>  \n",
       "</tr>\n",
       "<tr>\n",
       "  <th>const</th> <td>-1.228e+04</td> <td> 1180.208</td> <td>  -10.408</td> <td> 0.000</td> <td>-1.46e+04</td> <td>-9967.375</td>\n",
       "</tr>\n",
       "<tr>\n",
       "  <th>x1</th>    <td>  261.0408</td> <td>   14.118</td> <td>   18.490</td> <td> 0.000</td> <td>  233.336</td> <td>  288.745</td>\n",
       "</tr>\n",
       "<tr>\n",
       "  <th>x2</th>    <td>  119.8162</td> <td>  393.218</td> <td>    0.305</td> <td> 0.761</td> <td> -651.826</td> <td>  891.458</td>\n",
       "</tr>\n",
       "<tr>\n",
       "  <th>x3</th>    <td>  346.8145</td> <td>   34.726</td> <td>    9.987</td> <td> 0.000</td> <td>  278.670</td> <td>  414.959</td>\n",
       "</tr>\n",
       "<tr>\n",
       "  <th>x4</th>    <td>  457.3392</td> <td>  163.004</td> <td>    2.806</td> <td> 0.005</td> <td>  137.464</td> <td>  777.215</td>\n",
       "</tr>\n",
       "<tr>\n",
       "  <th>x5</th>    <td> 2.347e+04</td> <td>  482.064</td> <td>   48.691</td> <td> 0.000</td> <td> 2.25e+04</td> <td> 2.44e+04</td>\n",
       "</tr>\n",
       "<tr>\n",
       "  <th>x6</th>    <td> -357.2788</td> <td>  178.406</td> <td>   -2.003</td> <td> 0.045</td> <td> -707.379</td> <td>   -7.178</td>\n",
       "</tr>\n",
       "</table>\n",
       "<table class=\"simpletable\">\n",
       "<tr>\n",
       "  <th>Omnibus:</th>       <td>223.732</td> <th>  Durbin-Watson:     </th> <td>   2.046</td> \n",
       "</tr>\n",
       "<tr>\n",
       "  <th>Prob(Omnibus):</th> <td> 0.000</td>  <th>  Jarque-Bera (JB):  </th> <td> 485.840</td> \n",
       "</tr>\n",
       "<tr>\n",
       "  <th>Skew:</th>          <td> 1.249</td>  <th>  Prob(JB):          </th> <td>3.17e-106</td>\n",
       "</tr>\n",
       "<tr>\n",
       "  <th>Kurtosis:</th>      <td> 5.351</td>  <th>  Cond. No.          </th> <td>    309.</td> \n",
       "</tr>\n",
       "</table><br/><br/>Notes:<br/>[1] Standard Errors assume that the covariance matrix of the errors is correctly specified."
      ],
      "text/plain": [
       "<class 'statsmodels.iolib.summary.Summary'>\n",
       "\"\"\"\n",
       "                            OLS Regression Results                            \n",
       "==============================================================================\n",
       "Dep. Variable:                      y   R-squared:                       0.743\n",
       "Model:                            OLS   Adj. R-squared:                  0.741\n",
       "Method:                 Least Squares   F-statistic:                     473.6\n",
       "Date:                Tue, 05 Oct 2021   Prob (F-statistic):          4.87e-286\n",
       "Time:                        00:29:18   Log-Likelihood:                -10049.\n",
       "No. Observations:                 991   AIC:                         2.011e+04\n",
       "Df Residuals:                     984   BIC:                         2.015e+04\n",
       "Df Model:                           6                                         \n",
       "Covariance Type:            nonrobust                                         \n",
       "==============================================================================\n",
       "                 coef    std err          t      P>|t|      [0.025      0.975]\n",
       "------------------------------------------------------------------------------\n",
       "const      -1.228e+04   1180.208    -10.408      0.000   -1.46e+04   -9967.375\n",
       "x1           261.0408     14.118     18.490      0.000     233.336     288.745\n",
       "x2           119.8162    393.218      0.305      0.761    -651.826     891.458\n",
       "x3           346.8145     34.726      9.987      0.000     278.670     414.959\n",
       "x4           457.3392    163.004      2.806      0.005     137.464     777.215\n",
       "x5          2.347e+04    482.064     48.691      0.000    2.25e+04    2.44e+04\n",
       "x6          -357.2788    178.406     -2.003      0.045    -707.379      -7.178\n",
       "==============================================================================\n",
       "Omnibus:                      223.732   Durbin-Watson:                   2.046\n",
       "Prob(Omnibus):                  0.000   Jarque-Bera (JB):              485.840\n",
       "Skew:                           1.249   Prob(JB):                    3.17e-106\n",
       "Kurtosis:                       5.351   Cond. No.                         309.\n",
       "==============================================================================\n",
       "\n",
       "Notes:\n",
       "[1] Standard Errors assume that the covariance matrix of the errors is correctly specified.\n",
       "\"\"\""
      ]
     },
     "execution_count": 90,
     "metadata": {},
     "output_type": "execute_result"
    }
   ],
   "source": [
    "X_opt = np.array(x_train[:,[0, 1,2, 3,4,5]]).astype(float)\n",
    "X2 = sm.add_constant(X_opt)\n",
    "regressor_OLS = sm.OLS(y_train,X2).fit()\n",
    "regressor_OLS.summary()"
   ]
  },
  {
   "cell_type": "markdown",
   "id": "4c824d1c",
   "metadata": {},
   "source": [
    " Due to a relatively higher p-value, we can conclude that sex of a beneficiary and beneficiary's residential area don't really play a significant role in determining their insurance charges as they are not statistically significant."
   ]
  },
  {
   "cell_type": "markdown",
   "id": "c3e3a169",
   "metadata": {},
   "source": [
    "## Model Evaluation"
   ]
  },
  {
   "cell_type": "code",
   "execution_count": 91,
   "id": "c1ec288e",
   "metadata": {},
   "outputs": [
    {
     "name": "stdout",
     "output_type": "stream",
     "text": [
      "The Model Performance for Testing Set:\n",
      "\n",
      "\n",
      "RMSE is 5560.00\n",
      "MSE is 30913638.40\n",
      "R2 score is 0.77\n"
     ]
    }
   ],
   "source": [
    "# Model Evaluation for Testing Set\n",
    "\n",
    "y_pred = lr.predict(x_test)\n",
    "rmse = (np.sqrt(mean_squared_error(y_test, y_pred)))\n",
    "r2 = r2_score(y_test, y_pred)\n",
    "mse=mean_squared_error(y_test,y_pred)\n",
    "print(\"The Model Performance for Testing Set:\")\n",
    "print(\"\\n\")\n",
    "print('RMSE is {:.2f}'.format(rmse))\n",
    "print('MSE is {:.2f}'.format(mse))\n",
    "print('R2 score is {:.2f}'.format(r2))"
   ]
  },
  {
   "cell_type": "markdown",
   "id": "2ab5d43a",
   "metadata": {},
   "source": [
    "## Actual and Predicted Values"
   ]
  },
  {
   "cell_type": "markdown",
   "id": "d7fe5b77",
   "metadata": {},
   "source": [
    "We are using 'AvsP_Vals’ variable to store actual and predicted values together which are present in 'y_test' and 'y_test_predict' respectively. "
   ]
  },
  {
   "cell_type": "code",
   "execution_count": 92,
   "id": "a07efabb",
   "metadata": {},
   "outputs": [
    {
     "name": "stdout",
     "output_type": "stream",
     "text": [
      "          Actual     Predicted\n",
      "0     8733.22925  14404.341172\n",
      "1     4347.02335   6582.669648\n",
      "2     9861.02500   9363.010520\n",
      "3     7448.40395  13388.216550\n",
      "4     8688.85885   8435.956697\n",
      "..           ...           ...\n",
      "326   1136.39940   3494.381019\n",
      "327   8342.90875  13974.807039\n",
      "328   1621.88270   2497.124041\n",
      "329  13770.09790  13743.039750\n",
      "330  21259.37795  31720.626321\n",
      "\n",
      "[331 rows x 2 columns]\n"
     ]
    }
   ],
   "source": [
    "A_vals=pd.DataFrame(y_test,columns=['Actual'])\n",
    "P_vals=pd.DataFrame(y_pred,columns=['Predicted'])\n",
    "AvsP_Vals = pd.concat([A_vals,P_vals], axis=1)\n",
    "print(AvsP_Vals)"
   ]
  },
  {
   "cell_type": "markdown",
   "id": "601027f0",
   "metadata": {},
   "source": [
    " Here, we see that the differences between the actual and the predicted values are reasonably small."
   ]
  },
  {
   "cell_type": "markdown",
   "id": "51be63f5",
   "metadata": {},
   "source": [
    "## Plotting Actual vs Predicted Values"
   ]
  },
  {
   "cell_type": "markdown",
   "id": "5ca38f74",
   "metadata": {},
   "source": [
    "We are using 'scatter()' of mathplotlib.pyplot which is imported as 'plt' to plot the actual and predicted values. \n",
    "We are taking the logic into consideration that if both actual and predicted values are same then, the point lies on the line which is passing through origin. \n",
    "Hence, the more points near the line the more accurate the model is."
   ]
  },
  {
   "cell_type": "code",
   "execution_count": 93,
   "id": "f4727b86",
   "metadata": {},
   "outputs": [
    {
     "data": {
      "image/png": "[encoded data removed]",
      "text/plain": [
       "<Figure size 432x288 with 1 Axes>"
      ]
     },
     "metadata": {
      "needs_background": "light"
     },
     "output_type": "display_data"
    }
   ],
   "source": [
    "fig, ax = plt.subplots()\n",
    "ax.plot([0,1],[0,1], transform=ax.transAxes)\n",
    "\n",
    "plt.scatter(P_vals,A_vals,color='r')\n",
    "plt.xlabel(\"Predicted Values\")\n",
    "plt.ylabel(\"Actual Values\")\n",
    "plt.title(\"Plotting-Actual VS Predicted\")\n",
    "\n",
    "plt.show()"
   ]
  },
  {
   "cell_type": "markdown",
   "id": "d515b7f4",
   "metadata": {},
   "source": [
    "#### Four Sub-Sections: \n",
    " 1: Predicted values (0 to 20000) Actual values (0 to 20000) - The points are nearly close to the diagonal line. <br>\n",
    " 2: Predicted values (0 and 18000) Actual values (20000 and 35000) - The data points are essentially random. There is virtually no relationship between the model's predicted values and actuals. <br>\n",
    " 3: Predicted values (20000 and 40000) Actual values (10000 and 25000) - The predicted values are larger than the actual values over the range of 15000-20000. This indicates an overestimation. <br>\n",
    " 4: Predicted values (28000 and 40000) Actual values (30000 and 50000) - The data points are close to the diagonal line."
   ]
  },
  {
   "cell_type": "markdown",
   "id": "eba74418",
   "metadata": {},
   "source": [
    "## Trying to Predict Insurance Charges"
   ]
  },
  {
   "cell_type": "markdown",
   "id": "8ce093ae",
   "metadata": {},
   "source": [
    "1. We try to predict the insurance costs of a new customer, who is a smoker."
   ]
  },
  {
   "cell_type": "code",
   "execution_count": 94,
   "id": "0ed6e8fd",
   "metadata": {},
   "outputs": [
    {
     "name": "stdout",
     "output_type": "stream",
     "text": [
      "The insurance cost is USD  50678.0 2\n"
     ]
    }
   ],
   "source": [
    "input_data = (45,1,78.78,3,1,3)\n",
    "\n",
    "# changing input_data to a numpy array\n",
    "input_data_as_numpy_array = np.asarray(input_data)\n",
    "\n",
    "# reshape the array\n",
    "input_data_reshaped = input_data_as_numpy_array.reshape(1,-1)\n",
    "\n",
    "prediction = lr.predict(input_data_reshaped)\n",
    "\n",
    "print('The insurance cost is USD ', np.round(prediction[0]),2)"
   ]
  },
  {
   "cell_type": "markdown",
   "id": "1b83fd1a",
   "metadata": {},
   "source": [
    "2. We try to predict the insurance cost of another customer, but this time we take all the same values for age, bmi, sex, region and children as the previous customer, and we try to predict the costs if this customer is a non-smoker. "
   ]
  },
  {
   "cell_type": "code",
   "execution_count": 95,
   "id": "0703ea9d",
   "metadata": {},
   "outputs": [
    {
     "name": "stdout",
     "output_type": "stream",
     "text": [
      "The insurance cost is USD  27205.0 2\n"
     ]
    }
   ],
   "source": [
    "input_data = (45,1,78.78,3,0,3)\n",
    "\n",
    "# changing input_data to a numpy array\n",
    "input_data_as_numpy_array = np.asarray(input_data)\n",
    "\n",
    "# reshape the array\n",
    "input_data_reshaped = input_data_as_numpy_array.reshape(1,-1)\n",
    "\n",
    "prediction = lr.predict(input_data_reshaped)\n",
    "\n",
    "print('The insurance cost is USD ', np.round(prediction[0]),2)"
   ]
  },
  {
   "cell_type": "markdown",
   "id": "a96c2629",
   "metadata": {},
   "source": [
    "#### Thus, we can conclude from the costs predicted that the difference between the insurance cost for smokers and non smoker is very high."
   ]
  },
  {
   "cell_type": "markdown",
   "id": "990e0ae6",
   "metadata": {},
   "source": [
    "## Saving Model with pickle"
   ]
  },
  {
   "cell_type": "markdown",
   "id": "6cd3c2ef",
   "metadata": {},
   "source": [
    "Pickle is the standard way of serializing objects in Python.\n",
    "\n",
    "You can use the pickle operation to serialize your machine learning algorithms and save the serialized format to a file.\n",
    "\n",
    "Later you can load this file to deserialize your model and use it to make new predictions."
   ]
  },
  {
   "cell_type": "code",
   "execution_count": 96,
   "id": "9db7a208",
   "metadata": {},
   "outputs": [],
   "source": [
    "import pickle"
   ]
  },
  {
   "cell_type": "code",
   "execution_count": 97,
   "id": "f690b3cc",
   "metadata": {},
   "outputs": [],
   "source": [
    "pickle.dump(lr,open('MLRModel.pkl','wb'))"
   ]
  },
  {
   "cell_type": "markdown",
   "id": "07069684",
   "metadata": {},
   "source": [
    "# End"
   ]
  }
 ],
 "metadata": {
  "kernelspec": {
   "display_name": "Python 3",
   "language": "python",
   "name": "python3"
  },
  "language_info": {
   "codemirror_mode": {
    "name": "ipython",
    "version": 3
   },
   "file_extension": ".py",
   "mimetype": "text/x-python",
   "name": "python",
   "nbconvert_exporter": "python",
   "pygments_lexer": "ipython3",
   "version": "3.9.7"
  }
 },
 "nbformat": 4,
 "nbformat_minor": 5
}
